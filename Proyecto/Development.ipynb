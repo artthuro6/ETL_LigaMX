{
 "cells": [
  {
   "cell_type": "markdown",
   "id": "16c4d83d",
   "metadata": {},
   "source": [
    "# Extract Transform Load\n",
    "\n",
    "\n",
    "## Idea general\n",
    "\n",
    "- 1. La idea general del proyecto es poder generar un Web Scrapin, sencillo para poder genera la extraccion de datos de 2 o 3 paginas web, con contenido sobre los datos disponibles de los equipos de futbol en Mexico ( LigaMX )\n",
    "- 2. Generar una talba en SQL server o csv, mediante la cual almacenaremos los datos extraidos de la pagina web.\n",
    "- Las pagina mediante la cual podremos extraer los datos seran:\n",
    "    - https://www.tudn.com/futbol/liga-mx/resultados\n",
    "    -  https://www.tudn.com/futbol/liga-mx/posiciones\n",
    "- 3. Crear una API para poder extrtaer los datos requeridos\n",
    "\n",
    "\n",
    "## Extract\n",
    "\n",
    "Dentro del **Extract**, vamos a generar una API para poder conectarnos a la pagina web y posteriormente ,amipularlos.\n",
    "\n",
    "Los datos que vamos a solicitar, seran los siguientes:\n",
    "\n",
    "    - Fecha de ejecucion\n",
    "    - Equipo local\n",
    "    - Fecha del partido\n",
    "    - Equipo visitante\n",
    "    - Goles Local\n",
    "    - Goles Visitante\n",
    "    - Estadio del equipo local\n",
    "    - Hora del juego\n",
    "    - Ganador\n",
    "    - Puntos hasta la fecha de la extraccion\n",
    "    - Tendencia en puntos\n",
    "    \n",
    "Los datos los podremos sacar de los soguientes links:\n",
    "\n",
    "    - https://www.tudn.com/futbol/liga-mx/resultados\n",
    "    - https://www.tudn.com/futbol/liga-mx/posiciones\n",
    "    \n",
    "    \n",
    "## Transform\n",
    "\n",
    "En el **Transform** lo que se ejecutara sera la trnasformacion de los datos, como la conversion de la tendencia, los tipos de datos, datos duplicados, fechas, suma de los puntos ( talvez o extraccion directa de la pagina ), entre algunos otros.\n",
    "\n",
    "## Load.\n",
    "\n",
    "La carga se podra generar en 2 formas.\n",
    "\n",
    "La primera sera, guardandolo en un csv.\n",
    "\n",
    "La segunda sera, almacenandola en sql server ( Talvez mysql ).\n",
    "\n",
    "\n",
    "\n",
    "\n",
    "Es possible que en transcurso de la creacion, agrege mas variables, las cuales se adjuntaran dentro de este documento de presentacion.\n",
    "\n",
    "La tabla, podra quedar de la siguiente forma."
   ]
  },
  {
   "cell_type": "code",
   "execution_count": 18,
   "id": "27cc2bb9",
   "metadata": {},
   "outputs": [
    {
     "data": {
      "text/html": [
       "<div>\n",
       "<style scoped>\n",
       "    .dataframe tbody tr th:only-of-type {\n",
       "        vertical-align: middle;\n",
       "    }\n",
       "\n",
       "    .dataframe tbody tr th {\n",
       "        vertical-align: top;\n",
       "    }\n",
       "\n",
       "    .dataframe thead th {\n",
       "        text-align: right;\n",
       "    }\n",
       "</style>\n",
       "<table border=\"1\" class=\"dataframe\">\n",
       "  <thead>\n",
       "    <tr style=\"text-align: right;\">\n",
       "      <th></th>\n",
       "      <th>Date_Flow</th>\n",
       "      <th>Team_Local</th>\n",
       "      <th>Date_match</th>\n",
       "      <th>Team_Visit</th>\n",
       "      <th>Goals_Local</th>\n",
       "      <th>Goals_Visit</th>\n",
       "      <th>Estadium_team</th>\n",
       "      <th>Hour_play</th>\n",
       "      <th>Win</th>\n",
       "      <th>Puntos</th>\n",
       "      <th>Trend</th>\n",
       "    </tr>\n",
       "  </thead>\n",
       "  <tbody>\n",
       "    <tr>\n",
       "      <th>0</th>\n",
       "      <td>2022-01-7</td>\n",
       "      <td>Puebla</td>\n",
       "      <td>2022-01-7</td>\n",
       "      <td>America</td>\n",
       "      <td>5</td>\n",
       "      <td>0</td>\n",
       "      <td>Puebla</td>\n",
       "      <td>8:00 PM</td>\n",
       "      <td>Puebla</td>\n",
       "      <td>3</td>\n",
       "      <td>+</td>\n",
       "    </tr>\n",
       "    <tr>\n",
       "      <th>1</th>\n",
       "      <td>2022-01-10</td>\n",
       "      <td>Chivas</td>\n",
       "      <td>2022-01-09</td>\n",
       "      <td>Tigres</td>\n",
       "      <td>0</td>\n",
       "      <td>2</td>\n",
       "      <td>Chivas</td>\n",
       "      <td>9:00 PM</td>\n",
       "      <td>Tigres</td>\n",
       "      <td>3</td>\n",
       "      <td>+</td>\n",
       "    </tr>\n",
       "  </tbody>\n",
       "</table>\n",
       "</div>"
      ],
      "text/plain": [
       "    Date_Flow Team_Local  Date_match Team_Visit Goals_Local Goals_Visit  \\\n",
       "0   2022-01-7     Puebla   2022-01-7    America           5           0   \n",
       "1  2022-01-10     Chivas  2022-01-09     Tigres           0           2   \n",
       "\n",
       "  Estadium_team Hour_play     Win Puntos Trend  \n",
       "0        Puebla   8:00 PM  Puebla      3     +  \n",
       "1        Chivas   9:00 PM  Tigres      3     +  "
      ]
     },
     "execution_count": 18,
     "metadata": {},
     "output_type": "execute_result"
    }
   ],
   "source": [
    "import pandas as pd\n",
    "\n",
    "df = pd.DataFrame()\n",
    "\n",
    "df['Date_Flow'] = ['2022-01-7', '2022-01-10']\n",
    "df['Team_Local'] = ['Puebla', 'Chivas']\n",
    "df['Date_match'] = ['2022-01-7', '2022-01-09']\n",
    "df['Team_Visit'] = ['America', 'Tigres']\n",
    "df['Goals_Local'] = ['5', '0']\n",
    "df['Goals_Visit'] = ['0', '2']\n",
    "df['Estadium_team'] = ['Puebla', 'Chivas']\n",
    "df['Hour_play'] = ['8:00 PM', '9:00 PM']\n",
    "df['Win'] = ['Puebla', 'Tigres']\n",
    "df['Puntos'] = ['3', '3']\n",
    "df['Trend'] = ['+', '+']\n",
    "\n",
    "\n",
    "\n",
    "df.head()"
   ]
  },
  {
   "cell_type": "code",
   "execution_count": null,
   "id": "1178fc21",
   "metadata": {},
   "outputs": [],
   "source": []
  },
  {
   "cell_type": "code",
   "execution_count": 1,
   "id": "5f8e82f7",
   "metadata": {},
   "outputs": [],
   "source": [
    "import pandas as pd\n",
    "import numpy as np\n",
    "import requests\n",
    "from bs4 import BeautifulSoup"
   ]
  },
  {
   "cell_type": "code",
   "execution_count": 2,
   "id": "c3698e06",
   "metadata": {},
   "outputs": [],
   "source": [
    "url = 'https://www.tudn.com/futbol/liga-mx/resultados'\n",
    "html = requests.get(url)"
   ]
  },
  {
   "cell_type": "code",
   "execution_count": 5,
   "id": "60c0bc45",
   "metadata": {},
   "outputs": [],
   "source": [
    "#Extraer las etiquetas del HTLMK y su contenido\n",
    "soup = BeautifulSoup(html.content, 'html.parser')\n"
   ]
  },
  {
   "cell_type": "code",
   "execution_count": 49,
   "id": "be69c6fb",
   "metadata": {},
   "outputs": [
    {
     "data": {
      "text/plain": [
       "[<p class=\"TextUVN__TextStyled-sc-1i54lfj-0 cLBXKg uvs-font-a-regular DateTime__DateTimeStyled-sc-frci42-0 kOdh _31Klo\">Sábado, 23 de Julio de 2022</p>,\n",
       " <p class=\"TextUVN__TextStyled-sc-1i54lfj-0 cLBXKg uvs-font-a-regular DateTime__DateTimeStyled-sc-frci42-0 kOdh _31Klo\">Domingo, 24 de Julio de 2022</p>,\n",
       " <p class=\"TextUVN__TextStyled-sc-1i54lfj-0 cLBXKg uvs-font-a-regular DateTime__DateTimeStyled-sc-frci42-0 kOdh _31Klo\">Lunes, 25 de Julio de 2022</p>]"
      ]
     },
     "execution_count": 49,
     "metadata": {},
     "output_type": "execute_result"
    }
   ],
   "source": [
    "time = soup.find_all(\"p\", {\"class\": \"TextUVN__TextStyled-sc-1i54lfj-0 cLBXKg uvs-font-a-regular DateTime__DateTimeStyled-sc-frci42-0 kOdh _31Klo\"})\n",
    "time"
   ]
  },
  {
   "cell_type": "code",
   "execution_count": 43,
   "id": "055bc71c",
   "metadata": {},
   "outputs": [
    {
     "data": {
      "text/plain": [
       "[<p class=\"TextUVN__TextStyled-sc-1i54lfj-0 cLBXKg uvs-font-a-bold Team__TeamName-sc-1so5tpb-0 ehCibl\">Mazatlán FC</p>,\n",
       " <p class=\"TextUVN__TextStyled-sc-1i54lfj-0 cLBXKg uvs-font-a-bold Team__TeamName-sc-1so5tpb-0 ehCibl\">Necaxa</p>,\n",
       " <p class=\"TextUVN__TextStyled-sc-1i54lfj-0 cLBXKg uvs-font-a-bold Team__TeamName-sc-1so5tpb-0 ehCibl\">Toluca</p>,\n",
       " <p class=\"TextUVN__TextStyled-sc-1i54lfj-0 cLBXKg uvs-font-a-bold Team__TeamName-sc-1so5tpb-0 ehCibl\">Cruz Azul</p>,\n",
       " <p class=\"TextUVN__TextStyled-sc-1i54lfj-0 cLBXKg uvs-font-a-bold Team__TeamName-sc-1so5tpb-0 ehCibl\">Club Tijuana</p>,\n",
       " <p class=\"TextUVN__TextStyled-sc-1i54lfj-0 cLBXKg uvs-font-a-bold Team__TeamName-sc-1so5tpb-0 ehCibl\">Tigres</p>,\n",
       " <p class=\"TextUVN__TextStyled-sc-1i54lfj-0 cLBXKg uvs-font-a-bold Team__TeamName-sc-1so5tpb-0 ehCibl\">Pachuca</p>]"
      ]
     },
     "execution_count": 43,
     "metadata": {},
     "output_type": "execute_result"
    }
   ],
   "source": [
    "local = soup.find_all(\"p\", {\"class\": \"TextUVN__TextStyled-sc-1i54lfj-0 cLBXKg uvs-font-a-bold Team__TeamName-sc-1so5tpb-0 ehCibl\"})\n",
    "local"
   ]
  },
  {
   "cell_type": "code",
   "execution_count": 84,
   "id": "90d9f91f",
   "metadata": {},
   "outputs": [],
   "source": [
    "\"\"\" Obtenemos equipos locales y visitantes\"\"\"\n",
    "\n",
    "teams_all={'Local':[],'Visitante':[]}\n",
    "for team in range (len(local) ):\n",
    "    team_local = soup.find_all(\"p\", {\"class\": \"TextUVN__TextStyled-sc-1i54lfj-0 cLBXKg uvs-font-a-bold Team__TeamName-sc-1so5tpb-0 ehCibl\"})[team].text.strip()\n",
    "    teams_visitante = soup.find_all(\"p\", {\"class\": \"TextUVN__TextStyled-sc-1i54lfj-0 cLBXKg uvs-font-a-bold Team__TeamName-sc-1so5tpb-0 jfaVYh\"})[team].text.strip()\n",
    "    \n",
    "    teams_all['Local'].append(team_local)\n",
    "    teams_all['Visitante'].append(teams_visitante)"
   ]
  },
  {
   "cell_type": "code",
   "execution_count": 85,
   "id": "3632729d",
   "metadata": {},
   "outputs": [
    {
     "data": {
      "text/plain": [
       "{'Local': ['Mazatlán FC',\n",
       "  'Necaxa',\n",
       "  'Toluca',\n",
       "  'Cruz Azul',\n",
       "  'Club Tijuana',\n",
       "  'Tigres',\n",
       "  'Pachuca'],\n",
       " 'Visitante': ['Atlético San Luis',\n",
       "  'FC Juárez',\n",
       "  'Santos Laguna',\n",
       "  'Puebla',\n",
       "  'América',\n",
       "  'Atlas',\n",
       "  'Pumas UNAM']}"
      ]
     },
     "execution_count": 85,
     "metadata": {},
     "output_type": "execute_result"
    }
   ],
   "source": [
    "teams_all"
   ]
  },
  {
   "cell_type": "code",
   "execution_count": 97,
   "id": "5e5474cb",
   "metadata": {},
   "outputs": [
    {
     "data": {
      "text/plain": [
       "{'Goals_Local': ['1', '1', '2', '2', '2', '2', 0],\n",
       " 'Goals_Visit': ['1', '0', '1', '2', '0', '0', 0]}"
      ]
     },
     "execution_count": 97,
     "metadata": {},
     "output_type": "execute_result"
    }
   ],
   "source": [
    "teams_result={'Goals_Local':[],'Goals_Visit':[]}\n",
    "for team in range (len(local) ):\n",
    "    try:\n",
    "        result_local = soup.find_all(\"div\", {\"class\": \"TeamScore__ScoreValueWrapper-sc-1bfk9ze-1 bdVkOu rn-1oszu61 rn-1efd50x rn-14skgim rn-rull8r rn-mm0ijv rn-13yce4e rn-fnigne rn-ndvcnb rn-gxnn5r rn-deolkf rn-6koalj rn-1qe8dj5 rn-1mlwlqe rn-eqz5dr rn-1mnahxq rn-61z16t rn-p1pxzi rn-11wrixw rn-ifefl9 rn-bcqeeo rn-wk8lta rn-9aemit rn-1mdbw0j rn-gy4na3 rn-bnwqim rn-1lgpqti\"})[team].text.strip()\n",
    "        result_visit = soup.find_all(\"div\", {\"class\": \"TeamScore__ScoreValueWrapper-sc-1bfk9ze-1 iGHBvL rn-1oszu61 rn-1efd50x rn-14skgim rn-rull8r rn-mm0ijv rn-13yce4e rn-fnigne rn-ndvcnb rn-gxnn5r rn-deolkf rn-6koalj rn-1qe8dj5 rn-1mlwlqe rn-eqz5dr rn-1mnahxq rn-61z16t rn-p1pxzi rn-11wrixw rn-ifefl9 rn-bcqeeo rn-wk8lta rn-9aemit rn-1mdbw0j rn-gy4na3 rn-bnwqim rn-1lgpqti\"})[team].text.strip()\n",
    "        teams_result['Goals_Local'].append(result_local)\n",
    "        teams_result['Goals_Visit'].append(result_visit)\n",
    "    except:\n",
    "        teams_result['Goals_Local'].append(0)\n",
    "        teams_result['Goals_Visit'].append(0)\n",
    "    \n",
    "teams_result"
   ]
  },
  {
   "cell_type": "code",
   "execution_count": null,
   "id": "f7c271a7",
   "metadata": {},
   "outputs": [],
   "source": []
  }
 ],
 "metadata": {
  "kernelspec": {
   "display_name": "Python 3.8.10 ('l_env': venv)",
   "language": "python",
   "name": "python3"
  },
  "language_info": {
   "codemirror_mode": {
    "name": "ipython",
    "version": 3
   },
   "file_extension": ".py",
   "mimetype": "text/x-python",
   "name": "python",
   "nbconvert_exporter": "python",
   "pygments_lexer": "ipython3",
   "version": "3.8.10"
  },
  "vscode": {
   "interpreter": {
    "hash": "eb1814ddad3a08dda23a298bdf75d72f10eb232a8b3962a6a7db53212917c47b"
   }
  }
 },
 "nbformat": 4,
 "nbformat_minor": 5
}
